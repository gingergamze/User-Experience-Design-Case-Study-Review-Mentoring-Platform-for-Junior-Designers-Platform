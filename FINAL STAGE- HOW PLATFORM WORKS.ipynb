{
 "cells": [
  {
   "cell_type": "markdown",
   "metadata": {},
   "source": [
    "<h1>GRADUATION PROJECT<h1>\n",
    "FINAL STAGE "
   ]
  },
  {
   "cell_type": "markdown",
   "metadata": {},
   "source": [
    "THIS STAGE SHOW HOW PLATFORM INTERFACE WORKS\n",
    "<ul><li>\n",
    "    Collects title, synopsis, problem statement, tags and industry of the case study from the mentee </li>\n",
    "    <li>\n",
    "    Presents UX tips based on the title, synopsis, problem statement, tags of the case study by cosine similarity </li>\n",
    "    <li>\n",
    "    Mentee selects mentor from the mentor list. List comes to the mentee according to the industry </li>"
   ]
  },
  {
   "cell_type": "code",
   "execution_count": 62,
   "metadata": {},
   "outputs": [],
   "source": [
    "import sklearn as sk\n",
    "import pandas as pd\n",
    "import numpy as np\n",
    "import json\n",
    "import random\n",
    "from sklearn.model_selection import train_test_split #I need this to split the data\n",
    "import math\n",
    "from sklearn.feature_extraction.text import CountVectorizer\n",
    "from sklearn.metrics.pairwise import linear_kernel\n",
    "from sklearn.model_selection import train_test_split\n",
    "from sklearn.metrics import confusion_matrix\n",
    "import re\n",
    "\n",
    "industries = pd.read_csv(\"industries.csv\")\n",
    "tags = pd.read_csv(\"tags.csv\")\n",
    "sessionnotes = pd.read_csv(\"sessionnotes.csv\", encoding = \"utf_8_sig\", sep =\";\")\n",
    "synopsis_data = pd.read_csv(\"data.csv\")"
   ]
  },
  {
   "cell_type": "code",
   "execution_count": 63,
   "metadata": {},
   "outputs": [],
   "source": [
    "def isInputValid(_input, _range):\n",
    "    if not _input.isnumeric():\n",
    "        print(\"Please enter a numeric input\")\n",
    "        return False\n",
    "    elif int(_input) >_range or int(_input) < 1:\n",
    "        print(\"Please enter a number in range 1-{}\".format(len(_range)))\n",
    "        return False\n",
    "    else:\n",
    "        return True "
   ]
  },
  {
   "cell_type": "code",
   "execution_count": 64,
   "metadata": {},
   "outputs": [],
   "source": [
    "def getSessionNote(df, df_sn, synopsis):\n",
    "    text = list(df['data'].values.astype('U')) + [synopsis]\n",
    "    vect = CountVectorizer(stop_words='english') \n",
    "    #I fit the model with the words from the review text\n",
    "    vect = vect.fit(text) \n",
    "    # make a matrix\n",
    "    docu_feat = vect.transform(text) \n",
    "    cosine_sim = linear_kernel(docu_feat,docu_feat)\n",
    "    scores = list(enumerate(cosine_sim[len(df)]))\n",
    "    scores = sorted(scores, key = lambda x:x[1], reverse = True)\n",
    "    scores = scores[1:3]  #session note itself is considered as 0, 1 and 2 are considered as the most similar ones but there are seen by the users regardless of their voting ( user ticks).\n",
    "    indices = [i[0] for i in scores] # here scores includes 2 elements. 1 and 2. The most two similar ones.\n",
    "    for i in range(3,len(scores)):\n",
    "        if not df_sn.at[df.at[scores[i],\"sessionnote\"],\"isRated\"] and score[i] > 0.5: #threshold for suggestions that is not seen from anyone on the platform but also it should meet the similarity rate by 0.5\n",
    "            indices.append(i)\n",
    "            break\n",
    "    return df_sn[\"notes\"].iloc[list(df[\"sessionnote\"].iloc[indices])]"
   ]
  },
  {
   "cell_type": "code",
   "execution_count": 65,
   "metadata": {},
   "outputs": [],
   "source": [
    "def listMentors(industry): #this is for the list of mentors showed to the mentee before the booking\n",
    "    counter = 0\n",
    "    with open(\"mentors.json\") as infile:\n",
    "        mentors = json.load(infile)\n",
    "    for mentor in mentors:\n",
    "        if (industry in mentor[\"industry\"]):\n",
    "            print(\"{}-) \".format(counter) + mentor[\"name\"])\n",
    "            counter += 1"
   ]
  },
  {
   "cell_type": "code",
   "execution_count": 66,
   "metadata": {},
   "outputs": [],
   "source": [
    "def getMenteeData(synopsis_data, sessionnotes):\n",
    "    \n",
    "    print(\"Which industry is related to your case study.\")\n",
    "    for i  in range(len(industries)):\n",
    "        print(\"{}-) {}\".format(i+1,industries.at[i,\"ind\"]))\n",
    "    selection = input(\"Selection: \")\n",
    "    \n",
    "    if(isInputValid(selection, len(industries))):\n",
    "        industry_index = int(selection)-1\n",
    "    \n",
    "    sub_tags = tags.where(tags[\"industry\"] == industry_index).dropna()\n",
    "    indices = list(sub_tags.dropna().index)\n",
    "    sub_tags = sub_tags.reset_index()\n",
    "    print(\"\\n\\nTags suggestions(At least 1, at most 3).\")\n",
    "    for i in range(len(sub_tags)):\n",
    "        print(\"#{}\".format(sub_tags.at[i,\"tags\"])) #element at ith index and tags column \n",
    "    tag_list = []\n",
    "    \n",
    "    i = 0\n",
    "    while(i < 3):\n",
    "        tag = input(\"Enter {}. tag: \".format(i+1))\n",
    "        if(tag == \"\" and i != 0):\n",
    "            break\n",
    "        else:\n",
    "            tag_list.append(tag)\n",
    "            i+=1\n",
    "    title = input(\"Title of the case study: \")\n",
    "    synopsis = input(\"Synopsis: \")\n",
    "    problem_statement = input(\"Problem statement: \")\n",
    "    \n",
    "    data = synopsis + \" \" + title +\"\" + problem_statement\n",
    "    \n",
    "    for tag in tag_list:\n",
    "        data += \" \" + tag\n",
    "    \n",
    "    recommendations = getSessionNote(synopsis_data, sessionnotes, data) \n",
    "    \n",
    "    print(\"You have {} UX Tips according your case study! These are gifts from other mentees \".format(len(recommendations)))\n",
    "    for recommendation in recommendations:\n",
    "        print(recommendation)\n",
    "        \n",
    "    print(\"\\nDirected to your whiteboard...Loading\")\n",
    "    \n",
    "    print(\"\\nListing mentors...\")\n",
    "    \n",
    "    with open(\"mentors.json\") as infile:\n",
    "        mentors = json.load(infile)\n",
    "    \n",
    "    listMentors(industries.at[industry_index,\"ind\"])\n",
    "    input(\"Select a mentor: \")\n",
    "    \n",
    "    print(\"Book a session for your selected mentor...\")\n",
    "    session_note = input(\"Save your session notes for collaboration:\\n\")\n",
    "    tag_indices = []\n",
    "    for i in range(3):\n",
    "        if len(tag_list) > i:\n",
    "            tag_indices.append(tags[\"tags\"].where(tags[\"tags\"] == tag_list[i]).dropna().index[0])\n",
    "        else:\n",
    "            tag_indices.append(-1)\n",
    "            \n",
    "    new_data = { \"data\":data,\n",
    "                 \"industry\": industry_index,\n",
    "                 \"tag\":tag_indices[0],\n",
    "                 \"tag2\":tag_indices[1],\n",
    "                 \"tag3\":tag_indices[2],\n",
    "                 \"sessionnote\":len(sessionnotes)}\n",
    "    \n",
    "    new_data = pd.DataFrame(data = new_data, index = [len(synopsis_data)])\n",
    "    synopsis_data = synopsis_data.append(new_data)\n",
    "    synopsis_data.to_csv(\"data.csv\", index=False)\n",
    "   \n",
    "    #when the users add a new session note after a mentoring session, the rating of the session notes are zero and rated false\n",
    "    new_sn = {\n",
    "        \"notes\": session_note,\n",
    "        \"rating_design\": 0,\n",
    "        \"rating_uxresearch\": 0,\n",
    "        \"rating_writing\": 0,\n",
    "        \"rating_presentation\": 0,\n",
    "        \"isRated\": False\n",
    "    }\n",
    "    new_sn = pd.DataFrame(data = new_sn, index = [len(sessionnotes)])\n",
    "    sessionnotes = sessionnotes.append(new_sn)\n",
    "    sessionnotes.to_csv(\"sessionnotes.csv\", encoding=\"utf_8_sig\", index=False)\n",
    "    \n",
    "    print(\"Session is ended.\\n Saving data...\")"
   ]
  },
  {
   "cell_type": "markdown",
   "metadata": {},
   "source": [
    "## When the mentee enters her case study information (title, synopsis, problem statement and tags), she will receive suggestions according to cosine similarity algorithm. \n"
   ]
  },
  {
   "cell_type": "code",
   "execution_count": null,
   "metadata": {},
   "outputs": [
    {
     "name": "stdout",
     "output_type": "stream",
     "text": [
      "Which industry is related to your case study.\n",
      "1-) communication\n",
      "2-) e-commerce\n",
      "3-) education\n",
      "4-) energy&earth\n",
      "5-) entertainment\n",
      "6-) finance\n",
      "7-) food and beverage &consumption\n",
      "8-) health &psychology\n",
      "9-) tech\n",
      "10-) travel&transportation\n"
     ]
    }
   ],
   "source": [
    "getMenteeData(synopsis_data, sessionnotes)"
   ]
  },
  {
   "cell_type": "code",
   "execution_count": null,
   "metadata": {},
   "outputs": [],
   "source": []
  },
  {
   "cell_type": "code",
   "execution_count": null,
   "metadata": {},
   "outputs": [],
   "source": []
  },
  {
   "cell_type": "code",
   "execution_count": null,
   "metadata": {},
   "outputs": [],
   "source": []
  },
  {
   "cell_type": "code",
   "execution_count": null,
   "metadata": {},
   "outputs": [],
   "source": []
  },
  {
   "cell_type": "code",
   "execution_count": null,
   "metadata": {},
   "outputs": [],
   "source": []
  },
  {
   "cell_type": "code",
   "execution_count": null,
   "metadata": {},
   "outputs": [],
   "source": []
  }
 ],
 "metadata": {
  "kernelspec": {
   "display_name": "Python 3",
   "language": "python",
   "name": "python3"
  },
  "language_info": {
   "codemirror_mode": {
    "name": "ipython",
    "version": 3
   },
   "file_extension": ".py",
   "mimetype": "text/x-python",
   "name": "python",
   "nbconvert_exporter": "python",
   "pygments_lexer": "ipython3",
   "version": "3.6.10"
  }
 },
 "nbformat": 4,
 "nbformat_minor": 4
}
